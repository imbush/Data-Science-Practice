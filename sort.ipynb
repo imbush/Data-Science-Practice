{
 "cells": [
  {
   "cell_type": "markdown",
   "metadata": {},
   "source": [
    "# Sorting Algorithms in Python\n",
    "This notebook was created for educational purposes. It describes and gives Python3 code for several sorting algorithms. \n",
    "\n",
    "For analysis and "
   ]
  },
  {
   "cell_type": "code",
   "execution_count": 11,
   "metadata": {},
   "outputs": [
    {
     "name": "stdout",
     "output_type": "stream",
     "text": [
      "[17, 9, 10, 5, 1, 20, 15, 18, 3, 7, 12, 2, 19, 6, 16, 4, 14, 8, 13, 11]\n"
     ]
    }
   ],
   "source": [
    "import random\n",
    "list1 = list(range(1, 21))\n",
    "random.shuffle(list1)\n",
    "print(list1)"
   ]
  },
  {
   "cell_type": "markdown",
   "metadata": {},
   "source": [
    "## Selection Sort\n",
    "\n"
   ]
  },
  {
   "cell_type": "code",
   "execution_count": 2,
   "metadata": {},
   "outputs": [],
   "source": [
    "def selection_sort(arr: list) -> list:\n",
    "    for i in range(len(arr)):\n",
    "        for j in range(i + 1, len(arr)): # loops through items after i\n",
    "            if arr[j] < arr[i]: #switches if lower than arr[i]\n",
    "                arr[i], arr[j] = arr[j], arr[i]\n",
    "    return arr"
   ]
  },
  {
   "cell_type": "markdown",
   "metadata": {},
   "source": [
    "## Bubble Sort\n",
    "\n"
   ]
  },
  {
   "cell_type": "code",
   "execution_count": null,
   "metadata": {},
   "outputs": [],
   "source": [
    "def bubble_sort(arr: list) -> list:\n",
    "    sort_made = True\n",
    "    while sort_made:\n",
    "        sort_made = False\n",
    "        for i in range(len(arr) - 1):\n",
    "            if arr[i] > arr[i + 1]:\n",
    "                arr[i], arr[i + 1] = arr[i + 1], arr[i]\n",
    "                sort_made = True\n",
    "    return arr"
   ]
  },
  {
   "cell_type": "markdown",
   "metadata": {},
   "source": [
    "## Insertion Sort\n",
    "\n"
   ]
  },
  {
   "cell_type": "code",
   "execution_count": null,
   "metadata": {},
   "outputs": [],
   "source": [
    "def insertion_sort(arr: list) -> list:\n",
    "    for i in range(1, len(arr)):\n",
    "        while arr[i - 1] > arr[i] and i != 0: # pushes item back until it is greater than the next item\n",
    "            arr[i], arr[i - 1] = arr[i - 1], arr[i] #swaps if less than previous item\n",
    "            i -= 1\n",
    "    return arr"
   ]
  },
  {
   "cell_type": "markdown",
   "metadata": {},
   "source": [
    "## Merge Sort\n",
    "\n",
    "### Merge Function\n",
    "Merges 2 sorted ascending lists. "
   ]
  },
  {
   "cell_type": "code",
   "execution_count": null,
   "metadata": {},
   "outputs": [],
   "source": [
    "def merge(arr1: list, arr2: list) -> list:\n",
    "    '''merges two sorted ascending lists'''\n",
    "    arr3 = []\n",
    "    while arr1 and arr2: #while not empty\n",
    "        if arr1[0] < arr2[0]:\n",
    "            arr3.append(arr1.pop(0))\n",
    "        else:\n",
    "            arr3.append(arr2.pop(0))\n",
    "    return arr3 + arr1 + arr2 #adds remaining items in arr1 or arr2"
   ]
  },
  {
   "cell_type": "markdown",
   "metadata": {},
   "source": [
    "### Merge Sort Function"
   ]
  },
  {
   "cell_type": "code",
   "execution_count": null,
   "metadata": {},
   "outputs": [],
   "source": [
    "def merge_sort(arr: list) -> list:\n",
    "    '''bottom up'''\n",
    "    arr = [[x] for x in arr] #turns arr into a list of 1 element lists\n",
    "    while len(arr) != 1:\n",
    "        arr = [merge(arr[2 * x], arr[2 * x + 1]) for x in range(len(arr) // 2)]+ arr[2 * (len(arr) // 2):]# merges pairs of elements in arr, adds last element if odd length\n",
    "    return arr[0]"
   ]
  },
  {
   "cell_type": "markdown",
   "metadata": {},
   "source": [
    "## Quick Sort\n",
    "\n",
    "### Lomuto Partition"
   ]
  },
  {
   "cell_type": "code",
   "execution_count": null,
   "metadata": {},
   "outputs": [],
   "source": [
    "def lomuto_partition(arr: list, low: int, high: int):\n",
    "    pivot = arr[high]\n",
    "    i = low\n",
    "    for j in range(low, high+1):\n",
    "        if arr[j] < pivot:\n",
    "            arr[i],arr[j] = arr[j],arr[i]\n",
    "            i += 1\n",
    "    arr[i],arr[high] = arr[high], arr[i]\n",
    "    return arr, i"
   ]
  },
  {
   "cell_type": "markdown",
   "metadata": {},
   "source": [
    "### Hoare Partition"
   ]
  },
  {
   "cell_type": "code",
   "execution_count": null,
   "metadata": {},
   "outputs": [],
   "source": [
    "def hoare_partition(arr: list, low: int, high: int):\n",
    "    pivot = arr[(low+high)//2]\n",
    "    i = low\n",
    "    j = high\n",
    "    while True:\n",
    "        while arr[i] < pivot:#increments i and j until they are \n",
    "            i += 1\n",
    "            \n",
    "        while arr[j] > pivot:\n",
    "            j -= 1\n",
    "        if i >= j:\n",
    "            return arr, j\n",
    "        arr[i],arr[j] = arr[j],arr[i]\n",
    "        i += 1\n",
    "        j -= 1"
   ]
  },
  {
   "cell_type": "markdown",
   "metadata": {},
   "source": [
    "### Quick Sort Algorithm"
   ]
  },
  {
   "cell_type": "code",
   "execution_count": null,
   "metadata": {},
   "outputs": [],
   "source": [
    "def quick_sort(arr: list, low: int, high: int):\n",
    "    if low < high:\n",
    "        arr, pivot = hoare_partition(arr, low, high) #switch lomuto, hoare here\n",
    "        arr = quick_sort(arr,low, pivot)\n",
    "        arr = quick_sort(arr, pivot+1, high)\n",
    "    return arr"
   ]
  }
 ],
 "metadata": {
  "kernelspec": {
   "display_name": "Python 3",
   "language": "python",
   "name": "python3"
  },
  "language_info": {
   "codemirror_mode": {
    "name": "ipython",
    "version": 3
   },
   "file_extension": ".py",
   "mimetype": "text/x-python",
   "name": "python",
   "nbconvert_exporter": "python",
   "pygments_lexer": "ipython3",
   "version": "3.8.5"
  }
 },
 "nbformat": 4,
 "nbformat_minor": 4
}
