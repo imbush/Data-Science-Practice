{
 "cells": [
  {
   "cell_type": "markdown",
   "metadata": {},
   "source": [
    "# Sorting Algorithms in Python\n",
    "This notebook contains Inle Bush's notes and examples of sorting algorithms. It describes and gives Python3 code for Selection Sort, Bubble Sort, Insertion Sort, Merge Sort, and quick sort (with both Lomuto and Hoare partitioning algorithms). \n",
    "\n",
    "Note: I optimize the processing speed of the sorting algorithms to the best of my ability. However, Python's builtin list.sort() function is assumed to be more efficient.\n",
    "\n",
    "## Libraries and Testing\n",
    "The algorithms require no external libraries. The random library is used in the rand_list function to test the algorithms."
   ]
  },
  {
   "cell_type": "code",
   "execution_count": 1,
   "metadata": {},
   "outputs": [],
   "source": [
    "import random\n",
    "\n",
    "def rand_list(length: int) -> list:\n",
    "    '''Returns shuffled list containing natural numbers up to and including length'''\n",
    "    list1 = list(range(1, length + 1))\n",
    "    random.shuffle(list1)\n",
    "    return(list1)"
   ]
  },
  {
   "cell_type": "markdown",
   "metadata": {},
   "source": [
    "## Selection Sort\n",
    "* in-place comparison sorting algorithm\n",
    "\n",
    "* **Description**:\n",
    "    * Creates a sorted (initially empty) and unsorted (input list) list. \n",
    "    * Iteratively adds the minimum from the unsorted list to the sorted list.\n",
    "\n",
    "* **Worst case**: \n",
    "    * O($n^2$) comparisons\n",
    "    * O($n$) swaps"
   ]
  },
  {
   "cell_type": "markdown",
   "metadata": {},
   "source": [
    "In the implementation below, the first $i$ elements are the sorted list. $i$ starts at 0. The minimum of the unsorted items ($index > i$) is swapped with the $i+1$th element. As the first $i+1$ elements have now been sorted, $i$ is incremented. This is repeated until the unsorted list contains only the maximum item."
   ]
  },
  {
   "cell_type": "code",
   "execution_count": 2,
   "metadata": {},
   "outputs": [
    {
     "name": "stdout",
     "output_type": "stream",
     "text": [
      "Example:\n",
      "[8, 10, 4, 9, 2, 7, 6, 3, 5, 1]\n",
      "[1, 10, 4, 9, 2, 7, 6, 3, 5, 8]  #Swapped 1 and 8\n",
      "[1, 2, 4, 9, 10, 7, 6, 3, 5, 8]  #Swapped 2 and 10\n",
      "[1, 2, 3, 9, 10, 7, 6, 4, 5, 8]  #Swapped 3 and 4\n",
      "[1, 2, 3, 4, 10, 7, 6, 9, 5, 8]  #Swapped 4 and 9\n",
      "[1, 2, 3, 4, 5, 7, 6, 9, 10, 8]  #Swapped 5 and 10\n",
      "[1, 2, 3, 4, 5, 6, 7, 9, 10, 8]  #Swapped 6 and 7\n",
      "[1, 2, 3, 4, 5, 6, 7, 8, 10, 9]  #Swapped 8 and 9\n",
      "[1, 2, 3, 4, 5, 6, 7, 8, 9, 10]  #Swapped 9 and 10\n"
     ]
    }
   ],
   "source": [
    "def selection_sort(arr: list) -> list:\n",
    "    for i in range(len(arr) - 1): # i is first index of unsorted list\n",
    "        \n",
    "        jmin = i # Initially sets minimum \n",
    "        \n",
    "        for j in range(i + 1, len(arr)): # Loops through items after i\n",
    "            \n",
    "            if arr[j] < arr[jmin]: # If item is smaller than current min, set min to item\n",
    "                jmin = j\n",
    "                \n",
    "        if jmin != i: # Does not swap i and jmin if jmin is i\n",
    "            arr[i], arr[jmin] = arr[jmin], arr[i] # Switches jmin and i items\n",
    "            print(arr, \" #Swapped\", arr[i], \"and\", arr[jmin]) # For display purposes only\n",
    "\n",
    "#Testing\n",
    "print('Example:')\n",
    "print(l1 := rand_list(10))\n",
    "selection_sort(l1)"
   ]
  },
  {
   "cell_type": "markdown",
   "metadata": {},
   "source": [
    "## Bubble Sort\n",
    "\n",
    "* **Description**: \n",
    "    * Starting from the beginning of list, compare each adjacent pair and swaps elements if not in correct order. This moves greater elements to the end of the list.\n",
    "    * Repeat step 1, until no swaps are made. Each repetition requires one less comparison (the last element) as the last items are guaranteed to be sorted\n",
    "    \n",
    "* **Worst Case**:\n",
    "    * O( $n^2$ ) comparisons\n",
    "    * O( $n^2$ ) swaps"
   ]
  },
  {
   "cell_type": "code",
   "execution_count": 57,
   "metadata": {},
   "outputs": [
    {
     "name": "stdout",
     "output_type": "stream",
     "text": [
      "Example:\n",
      "[4, 7, 6, 3, 2, 5, 1]\n",
      "[4, 6, 7, 3, 2, 5, 1]\n",
      "[4, 6, 3, 7, 2, 5, 1]\n",
      "[4, 6, 3, 2, 7, 5, 1]\n",
      "[4, 6, 3, 2, 5, 7, 1]\n",
      "[4, 6, 3, 2, 5, 1, 7]\n",
      "[4, 3, 6, 2, 5, 1, 7]\n",
      "[4, 3, 2, 6, 5, 1, 7]\n",
      "[4, 3, 2, 5, 6, 1, 7]\n",
      "[4, 3, 2, 5, 1, 6, 7]\n",
      "[3, 4, 2, 5, 1, 6, 7]\n",
      "[3, 2, 4, 5, 1, 6, 7]\n",
      "[3, 2, 4, 1, 5, 6, 7]\n",
      "[2, 3, 4, 1, 5, 6, 7]\n",
      "[2, 3, 1, 4, 5, 6, 7]\n",
      "[2, 1, 3, 4, 5, 6, 7]\n",
      "[1, 2, 3, 4, 5, 6, 7]\n"
     ]
    }
   ],
   "source": [
    "def bubble_sort(arr: list) -> list:\n",
    "    sort_made = True\n",
    "    n = len(arr)\n",
    "    while sort_made:\n",
    "        sort_made = False\n",
    "        for i in range(n - 1):\n",
    "            if arr[i] > arr[i + 1]:\n",
    "                arr[i], arr[i + 1] = arr[i + 1], arr[i]\n",
    "                sort_made = True\n",
    "                print(arr) # For display purposes only\n",
    "        n -= 1\n",
    "\n",
    "#Testing\n",
    "print('Example:')\n",
    "print(l1 := rand_list(7))\n",
    "bubble_sort(l1)"
   ]
  },
  {
   "cell_type": "markdown",
   "metadata": {},
   "source": [
    "## Insertion Sort\n",
    "\n",
    "* **Description**: \n",
    "    * Insertion sort increments through the elements of a list.\n",
    "    * Each element is inserted into the elements before it (this is a sorted list).\n",
    "    * Insertion method:\n",
    "        * starting from the end of the sorted items, if current $>$ previous element, swap.\n",
    "        * update index of current element.\n",
    "        * continue until current $<=$ previous element (current is in correct spot).\n",
    "    \n",
    "* **Worst Case**:\n",
    "    * O( $n^2$ ) comparisons\n",
    "    * O( $n^2$ ) swaps"
   ]
  },
  {
   "cell_type": "code",
   "execution_count": 56,
   "metadata": {},
   "outputs": [
    {
     "name": "stdout",
     "output_type": "stream",
     "text": [
      "Example:\n",
      "[1, 6, 7, 5, 3, 4, 2]\n",
      "[1, 6, 5, 7, 3, 4, 2]\n",
      "[1, 6, 5, 3, 7, 4, 2]\n",
      "[1, 6, 5, 3, 4, 7, 2]\n",
      "[1, 6, 5, 3, 4, 2, 7]\n"
     ]
    },
    {
     "data": {
      "text/plain": [
       "[1, 6, 5, 3, 4, 2, 7]"
      ]
     },
     "execution_count": 56,
     "metadata": {},
     "output_type": "execute_result"
    }
   ],
   "source": [
    "def insertion_sort(arr: list) -> list:\n",
    "    for i in range(1, len(arr)): # current is item at i\n",
    "        new_i = i\n",
    "        while i != 0 and arr[new_i - 1] > arr[i]: # if greater than the previous item\n",
    "            arr[i], arr[i - 1] = arr[i - 1], arr[i] # swaps item with previous item\n",
    "            i -= 1 # changes index to match new location of current item\n",
    "            print(arr) # For display purposes only\n",
    "    return arr\n",
    "\n",
    "#Testing\n",
    "print('Example:')\n",
    "print(l1 := rand_list(7))\n",
    "insertion_sort(l1)"
   ]
  },
  {
   "cell_type": "markdown",
   "metadata": {},
   "source": [
    "## Merge Sort\n",
    "\n",
    "* **Description**: \n",
    "    * Merge sort breaks the list into single element (sorted) lists then uses a merge function which merges 2 sorted lists to rebuild a sorted list.\n",
    "    \n",
    "* **Worst Case**:\n",
    "    * O( $nlog(n)$ ) comparisons\n",
    "\n",
    "### Merge Function\n",
    "* Merges 2 sorted ascending lists. \n",
    "* **Description**\n",
    "    * Starts with an empty list arr3\n",
    "    * Given 2 sorted lists arr1 and arr2, compares the first items of arr1 and arr2 and removes the smaller first item to appends it to arr3.\n",
    "    * Repeat the previous step until at least one of the lists is empty.\n",
    "    * If case one list was longer, append the two lists to the end of arr3 as the other list is empty and all items left in the larger list are >= those in arr3 and sorted."
   ]
  },
  {
   "cell_type": "code",
   "execution_count": 61,
   "metadata": {},
   "outputs": [],
   "source": [
    "def merge(arr1: list, arr2: list) -> list:\n",
    "    '''merges two sorted ascending lists'''\n",
    "    arr3 = []\n",
    "    while arr1 and arr2: # while arr1 and arr2 not empty\n",
    "        if arr1[0] < arr2[0]: # A\n",
    "            arr3.append(arr1.pop(0))\n",
    "        else:\n",
    "            arr3.append(arr2.pop(0))\n",
    "    return arr3 + arr1 + arr2 #Adds remaining items in arr1 or arr2"
   ]
  },
  {
   "cell_type": "markdown",
   "metadata": {},
   "source": [
    "### Merge Sort Function\n",
    "* **Description**\n",
    "    * Breaks a list arr into a list of single element lists \n",
    "    * While arr is composed of more than 1 list, merge adjacent pairs of lists within arr."
   ]
  },
  {
   "cell_type": "code",
   "execution_count": 77,
   "metadata": {},
   "outputs": [
    {
     "name": "stdout",
     "output_type": "stream",
     "text": [
      "Example:\n",
      "[[1], [7], [4], [5], [6], [2], [8], [3]]\n",
      "[[1, 7], [4, 5], [2, 6], [3, 8]]\n",
      "[[1, 4, 5, 7], [2, 3, 6, 8]]\n",
      "[[1, 2, 3, 4, 5, 6, 7, 8]]\n"
     ]
    },
    {
     "data": {
      "text/plain": [
       "[1, 2, 3, 4, 5, 6, 7, 8]"
      ]
     },
     "execution_count": 77,
     "metadata": {},
     "output_type": "execute_result"
    }
   ],
   "source": [
    "def merge_sort(arr: list) -> list:\n",
    "    '''Bottom up merge sort'''\n",
    "    arr = [[x] for x in arr] #turns arr into a list of 1 element lists\n",
    "    print(arr) # For display purposes only\n",
    "    while len(arr) != 1:\n",
    "        # merges pairs of elements in arr, adds last element to set of merged pairs if arr has odd length\n",
    "        arr = [merge(arr[index], arr[index + 1]) for index in range(0, len(arr) - 1, 2)] + arr[2 * (len(arr) // 2):]\n",
    "        print(arr) # For display purposes only\n",
    "    return arr[0]\n",
    "\n",
    "print('Example:')\n",
    "l1 = rand_list(8)\n",
    "merge_sort(l1)"
   ]
  },
  {
   "cell_type": "markdown",
   "metadata": {},
   "source": [
    "## Quick Sort\n",
    "* **Description**: \n",
    "    * Selects pivot element, then partitions all other elements into two sub-arrays, according to whether they are less than or greater than the pivot.\n",
    "    \n",
    "* **Worst Case**:\n",
    "    * O( $n^2$ ) comparisons\n",
    "* **Average Case**:\n",
    "    * O( $nlog(n)$ ) comparisons\n",
    "\n",
    "### Lomuto Partition"
   ]
  },
  {
   "cell_type": "code",
   "execution_count": null,
   "metadata": {},
   "outputs": [],
   "source": [
    "def lomuto_partition(arr: list, low: int, high: int):\n",
    "    pivot = arr[high]\n",
    "    i = low\n",
    "    for j in range(low, high+1):\n",
    "        if arr[j] < pivot:\n",
    "            arr[i],arr[j] = arr[j],arr[i]\n",
    "            i += 1\n",
    "    arr[i],arr[high] = arr[high], arr[i]\n",
    "    return arr, i"
   ]
  },
  {
   "cell_type": "markdown",
   "metadata": {},
   "source": [
    "### Hoare Partition"
   ]
  },
  {
   "cell_type": "code",
   "execution_count": null,
   "metadata": {},
   "outputs": [],
   "source": [
    "def hoare_partition(arr: list, low: int, high: int):\n",
    "    pivot = arr[(low+high)//2]\n",
    "    i = low\n",
    "    j = high\n",
    "    while True:\n",
    "        while arr[i] < pivot:#increments i and j until they are \n",
    "            i += 1\n",
    "            \n",
    "        while arr[j] > pivot:\n",
    "            j -= 1\n",
    "        if i >= j:\n",
    "            return arr, j\n",
    "        arr[i],arr[j] = arr[j],arr[i]\n",
    "        i += 1\n",
    "        j -= 1"
   ]
  },
  {
   "cell_type": "markdown",
   "metadata": {},
   "source": [
    "### Quick Sort Algorithm"
   ]
  },
  {
   "cell_type": "code",
   "execution_count": null,
   "metadata": {},
   "outputs": [],
   "source": [
    "def quick_sort(arr: list, low: int, high: int):\n",
    "    if low < high:\n",
    "        arr, pivot = hoare_partition(arr, low, high) #switch lomuto, hoare here\n",
    "        arr = quick_sort(arr,low, pivot)\n",
    "        arr = quick_sort(arr, pivot+1, high)\n",
    "    return arr"
   ]
  },
  {
   "cell_type": "markdown",
   "metadata": {},
   "source": [
    "## Sources/More Information\n",
    "\n",
    "1. [MIT 6.006 Intro to Algorithms](https://ocw.mit.edu/courses/electrical-engineering-and-computer-science/6-006-introduction-to-algorithms-fall-2011/lecture-videos/)\n",
    "2. [Selection Sort Wiki](https://en.wikipedia.org/wiki/Selection_sort)\n",
    "3. [Bubble Sort Wiki](https://en.wikipedia.org/wiki/Bubble_sort)\n",
    "4. [Insertion Sort Wiki](https://en.wikipedia.org/wiki/Insertion_sort)"
   ]
  }
 ],
 "metadata": {
  "kernelspec": {
   "display_name": "Python 3",
   "language": "python",
   "name": "python3"
  },
  "language_info": {
   "codemirror_mode": {
    "name": "ipython",
    "version": 3
   },
   "file_extension": ".py",
   "mimetype": "text/x-python",
   "name": "python",
   "nbconvert_exporter": "python",
   "pygments_lexer": "ipython3",
   "version": "3.8.5"
  }
 },
 "nbformat": 4,
 "nbformat_minor": 4
}
