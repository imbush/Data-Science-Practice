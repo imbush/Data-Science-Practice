{
 "cells": [
  {
   "cell_type": "markdown",
   "metadata": {},
   "source": [
    "# Least Squares Regression in Python\n",
    "This notebook contains Inle Bush's notes and an example of least squares regression.\n",
    "\n",
    "Note: The purpose of the following code is education not implementation. The function scipy.optimize.least_squares() is a better alternative for implementation.\n",
    "\n",
    "## Explanation\n",
    "The line of best fit will take the form:\n",
    "\n",
    "$Y=mX+c$\n",
    "\n",
    "The following quadratic loss function is used to estimate the accuracy of the line of best fit. To maximize estimated accuracy, this loss function must be minimized.\n",
    "\n",
    "$L(x)=\\sum_{i=1}^{n} (y_i-(mX+c))^2$\n",
    "\n",
    "Taking the partial derivative of the loss function and setting to 0, one ends up with the following equation.\n",
    "\n",
    "\n",
    "$nc=\\sum_{i=1}^{n} y_i-m\\sum_{i=1}^{n} x_i$\n",
    "\n",
    "$c=\\sum_{i=1}^{n} y_i-m\\sum_{i=1}^{n} x_i$\n",
    "\n",
    "\n",
    "\n",
    "\n",
    "\n"
   ]
  },
  {
   "cell_type": "markdown",
   "metadata": {},
   "source": [
    "## Functions\n",
    "No external libraries are used in this execution. For my own practice, I implemented these basic statistical functions below:\n",
    "* mean\n",
    "* variance\n",
    "* covariance"
   ]
  },
  {
   "cell_type": "code",
   "execution_count": null,
   "metadata": {},
   "outputs": [],
   "source": [
    "def mean(xarr: list) -> float:\n",
    "    '''returns the average of a list'''\n",
    "\n",
    "    mean = 0\n",
    "    for x in xarr:\n",
    "        mean += x\n",
    "    mean /= len(xarr)\n",
    "\n",
    "    return mean\n",
    "\n",
    "def variance(xarr: list) -> float:\n",
    "    '''Returns population variance:\n",
    "     The average squared distance from the mean.\n",
    "     '''\n",
    "    variance = 0\n",
    "    meanx = mean(xarr)\n",
    "    for x in xarr:\n",
    "        variance += (meanx - x) ** 2\n",
    "    variance /= len(xarr) #Population size = len(xarr)\n",
    "\n",
    "    return variance\n",
    "\n",
    "def covariance(xarr: list, yarr: list) -> float:\n",
    "    '''Returns population covariance:\n",
    "    The average product of the difference of x to the mean and the difference of y to the mean\n",
    "    '''\n",
    "    meanx = mean(xarr)\n",
    "    meany = mean(yarr)\n",
    "\n",
    "    covar = 0\n",
    "    for i in range(len(xarr)):\n",
    "        covar += (xarr[i] - meanx) * (yarr[i] - meany)\n",
    "    covar /= len(xarr)\n",
    "\n",
    "    return covar"
   ]
  },
  {
   "cell_type": "markdown",
   "metadata": {},
   "source": [
    "## Least Squares\n",
    "\n",
    "As shown above, the equation for least squares is:\n",
    "\n"
   ]
  },
  {
   "cell_type": "code",
   "execution_count": null,
   "metadata": {},
   "outputs": [],
   "source": [
    "def leastsquares(xarr: list, yarr: list) -> tuple:\n",
    "    '''Returns slope and y intercept of the line of best fit. \n",
    "    In the form slope, y_int\n",
    "    '''\n",
    "    meanx = mean(xarr)\n",
    "    meany = mean(yarr)\n",
    "    \n",
    "    slope = 0\n",
    "    for x in xarr:\n",
    "        for y in yarr:\n",
    "            slope += (y - meany) / (x - meanx)\n",
    "    \n",
    "    return slope, meany - slope * meanx\n",
    "\n",
    "    # Using other functions\n",
    "    # slope = covariance(xarr, yarr)/variance(xarr)\n",
    "    # y_int = mean(yarr) - slope * mean(xarr) # Because the line goes through the point with mean x and mean y\n",
    "    # return slope, y_int"
   ]
  }
 ],
 "metadata": {
  "kernelspec": {
   "display_name": "Python 3",
   "language": "python",
   "name": "python3"
  },
  "language_info": {
   "codemirror_mode": {
    "name": "ipython",
    "version": 3
   },
   "file_extension": ".py",
   "mimetype": "text/x-python",
   "name": "python",
   "nbconvert_exporter": "python",
   "pygments_lexer": "ipython3",
   "version": "3.8.5"
  }
 },
 "nbformat": 4,
 "nbformat_minor": 4
}
